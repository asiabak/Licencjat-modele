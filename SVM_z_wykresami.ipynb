{
  "nbformat": 4,
  "nbformat_minor": 0,
  "metadata": {
    "colab": {
      "provenance": [],
      "gpuType": "T4",
      "authorship_tag": "ABX9TyPQgftYpC8oYDec0EKopT2m",
      "include_colab_link": true
    },
    "kernelspec": {
      "name": "python3",
      "display_name": "Python 3"
    },
    "language_info": {
      "name": "python"
    },
    "accelerator": "GPU"
  },
  "cells": [
    {
      "cell_type": "markdown",
      "metadata": {
        "id": "view-in-github",
        "colab_type": "text"
      },
      "source": [
        "<a href=\"https://colab.research.google.com/github/asiabak/Licencjat-modele/blob/main/SVM_z_wykresami.ipynb\" target=\"_parent\"><img src=\"https://colab.research.google.com/assets/colab-badge.svg\" alt=\"Open In Colab\"/></a>"
      ]
    },
    {
      "cell_type": "code",
      "source": [
        "!pip install gensim scikit-learn nltk pandas"
      ],
      "metadata": {
        "collapsed": true,
        "id": "jn-HO-aOUNtt",
        "outputId": "ab8a9e66-6fe1-4de0-f381-1c90f79f575e",
        "colab": {
          "base_uri": "https://localhost:8080/"
        }
      },
      "execution_count": 2,
      "outputs": [
        {
          "output_type": "stream",
          "name": "stdout",
          "text": [
            "Collecting gensim\n",
            "  Downloading gensim-4.3.3-cp311-cp311-manylinux_2_17_x86_64.manylinux2014_x86_64.whl.metadata (8.1 kB)\n",
            "Requirement already satisfied: scikit-learn in /usr/local/lib/python3.11/dist-packages (1.6.1)\n",
            "Requirement already satisfied: nltk in /usr/local/lib/python3.11/dist-packages (3.9.1)\n",
            "Requirement already satisfied: pandas in /usr/local/lib/python3.11/dist-packages (2.2.2)\n",
            "Collecting numpy<2.0,>=1.18.5 (from gensim)\n",
            "  Downloading numpy-1.26.4-cp311-cp311-manylinux_2_17_x86_64.manylinux2014_x86_64.whl.metadata (61 kB)\n",
            "\u001b[2K     \u001b[90m━━━━━━━━━━━━━━━━━━━━━━━━━━━━━━━━━━━━━━━━\u001b[0m \u001b[32m61.0/61.0 kB\u001b[0m \u001b[31m4.4 MB/s\u001b[0m eta \u001b[36m0:00:00\u001b[0m\n",
            "\u001b[?25hCollecting scipy<1.14.0,>=1.7.0 (from gensim)\n",
            "  Downloading scipy-1.13.1-cp311-cp311-manylinux_2_17_x86_64.manylinux2014_x86_64.whl.metadata (60 kB)\n",
            "\u001b[2K     \u001b[90m━━━━━━━━━━━━━━━━━━━━━━━━━━━━━━━━━━━━━━━━\u001b[0m \u001b[32m60.6/60.6 kB\u001b[0m \u001b[31m4.8 MB/s\u001b[0m eta \u001b[36m0:00:00\u001b[0m\n",
            "\u001b[?25hRequirement already satisfied: smart-open>=1.8.1 in /usr/local/lib/python3.11/dist-packages (from gensim) (7.1.0)\n",
            "Requirement already satisfied: joblib>=1.2.0 in /usr/local/lib/python3.11/dist-packages (from scikit-learn) (1.4.2)\n",
            "Requirement already satisfied: threadpoolctl>=3.1.0 in /usr/local/lib/python3.11/dist-packages (from scikit-learn) (3.6.0)\n",
            "Requirement already satisfied: click in /usr/local/lib/python3.11/dist-packages (from nltk) (8.1.8)\n",
            "Requirement already satisfied: regex>=2021.8.3 in /usr/local/lib/python3.11/dist-packages (from nltk) (2024.11.6)\n",
            "Requirement already satisfied: tqdm in /usr/local/lib/python3.11/dist-packages (from nltk) (4.67.1)\n",
            "Requirement already satisfied: python-dateutil>=2.8.2 in /usr/local/lib/python3.11/dist-packages (from pandas) (2.9.0.post0)\n",
            "Requirement already satisfied: pytz>=2020.1 in /usr/local/lib/python3.11/dist-packages (from pandas) (2025.2)\n",
            "Requirement already satisfied: tzdata>=2022.7 in /usr/local/lib/python3.11/dist-packages (from pandas) (2025.2)\n",
            "Requirement already satisfied: six>=1.5 in /usr/local/lib/python3.11/dist-packages (from python-dateutil>=2.8.2->pandas) (1.17.0)\n",
            "Requirement already satisfied: wrapt in /usr/local/lib/python3.11/dist-packages (from smart-open>=1.8.1->gensim) (1.17.2)\n",
            "Downloading gensim-4.3.3-cp311-cp311-manylinux_2_17_x86_64.manylinux2014_x86_64.whl (26.7 MB)\n",
            "\u001b[2K   \u001b[90m━━━━━━━━━━━━━━━━━━━━━━━━━━━━━━━━━━━━━━━━\u001b[0m \u001b[32m26.7/26.7 MB\u001b[0m \u001b[31m85.2 MB/s\u001b[0m eta \u001b[36m0:00:00\u001b[0m\n",
            "\u001b[?25hDownloading numpy-1.26.4-cp311-cp311-manylinux_2_17_x86_64.manylinux2014_x86_64.whl (18.3 MB)\n",
            "\u001b[2K   \u001b[90m━━━━━━━━━━━━━━━━━━━━━━━━━━━━━━━━━━━━━━━━\u001b[0m \u001b[32m18.3/18.3 MB\u001b[0m \u001b[31m93.2 MB/s\u001b[0m eta \u001b[36m0:00:00\u001b[0m\n",
            "\u001b[?25hDownloading scipy-1.13.1-cp311-cp311-manylinux_2_17_x86_64.manylinux2014_x86_64.whl (38.6 MB)\n",
            "\u001b[2K   \u001b[90m━━━━━━━━━━━━━━━━━━━━━━━━━━━━━━━━━━━━━━━━\u001b[0m \u001b[32m38.6/38.6 MB\u001b[0m \u001b[31m16.0 MB/s\u001b[0m eta \u001b[36m0:00:00\u001b[0m\n",
            "\u001b[?25hInstalling collected packages: numpy, scipy, gensim\n",
            "  Attempting uninstall: numpy\n",
            "    Found existing installation: numpy 2.0.2\n",
            "    Uninstalling numpy-2.0.2:\n",
            "      Successfully uninstalled numpy-2.0.2\n",
            "  Attempting uninstall: scipy\n",
            "    Found existing installation: scipy 1.15.2\n",
            "    Uninstalling scipy-1.15.2:\n",
            "      Successfully uninstalled scipy-1.15.2\n",
            "\u001b[31mERROR: pip's dependency resolver does not currently take into account all the packages that are installed. This behaviour is the source of the following dependency conflicts.\n",
            "thinc 8.3.6 requires numpy<3.0.0,>=2.0.0, but you have numpy 1.26.4 which is incompatible.\u001b[0m\u001b[31m\n",
            "\u001b[0mSuccessfully installed gensim-4.3.3 numpy-1.26.4 scipy-1.13.1\n"
          ]
        }
      ]
    },
    {
      "cell_type": "code",
      "source": [
        "# First, verify GPU is available in Colab\n",
        "import tensorflow as tf\n",
        "print(\"GPU Available:\", tf.config.list_physical_devices('GPU'))\n",
        "\n",
        "# Install necessary libraries if not already available\n",
        "# !pip install gensim scikit-learn nltk pandas\n",
        "\n",
        "import urllib.request\n",
        "import pandas as pd\n",
        "import re\n",
        "import numpy as np\n",
        "import nltk\n",
        "from nltk.tokenize import word_tokenize\n",
        "from sklearn.model_selection import train_test_split\n",
        "from sklearn.svm import SVC\n",
        "from sklearn.metrics import accuracy_score\n",
        "from gensim.models import FastText\n",
        "import tensorflow as tf\n",
        "import time\n",
        "import os\n",
        "\n",
        "# Use GPU for tensor operations\n",
        "with tf.device('/GPU:0'):\n",
        "    # Download NLTK data if needed\n",
        "    nltk.download('punkt_tab')\n",
        "\n",
        "    # Set up paths for KGR10 FastText model\n",
        "    model_url = \"https://huggingface.co/clarin-pl/fasttext-kgr10/resolve/main/kgr10.plain.skipgram.dim100.neg10.bin\"\n",
        "    model_path = \"kgr10.plain.skipgram.dim100.neg10.bin\"\n",
        "\n",
        "    # Download model if it doesn't exist\n",
        "    if not os.path.exists(model_path):\n",
        "        print(f\"Downloading KGR10 FastText model from {model_url}...\")\n",
        "        urllib.request.urlretrieve(model_url, model_path)\n",
        "        print(\"Download complete!\")\n",
        "    else:\n",
        "        print(f\"Using existing model at {model_path}\")\n",
        "\n",
        "    # Load the FastText model\n",
        "    print(\"Loading KGR10 FastText model...\")\n",
        "    model = FastText.load_fasttext_format(model_path)\n",
        "    print(f\"Model loaded! Vector size: {model.vector_size}\")\n",
        "\n",
        "    # Load datasets\n",
        "    print(\"Loading datasets...\")\n",
        "    reviews = pd.read_csv(\"/content/filmweb_6500_obrobiony.csv\")\n",
        "    reviews_with_idioms = pd.read_csv('/content/filmweb_6500_i_idiomy2')\n",
        "    print(f\"Loaded {len(reviews)} reviews and {len(reviews_with_idioms)} reviews with idioms\")\n",
        "\n",
        "    # Text preprocessing\n",
        "    def preprocess_text(text):\n",
        "        # Handle NaN values\n",
        "        if isinstance(text, float) and np.isnan(text):\n",
        "            return \"\"\n",
        "\n",
        "        text = str(text).lower()\n",
        "        text = re.sub(r'[^\\w\\s]', '', text)\n",
        "        words = text.split()\n",
        "        return ' '.join(words)\n",
        "\n",
        "    # Apply text preprocessing\n",
        "    print(\"Preprocessing text...\")\n",
        "    reviews['review_processed'] = reviews['review'].apply(preprocess_text)\n",
        "    reviews_with_idioms['review_processed'] = reviews_with_idioms['review'].apply(preprocess_text)\n",
        "\n",
        "    # GPU-accelerated vectorization with TensorFlow\n",
        "    def vectorize_review_batch(texts, model):\n",
        "        # Function to get embeddings for one text\n",
        "        def get_embeddings(text):\n",
        "            if not text:  # Handle empty strings\n",
        "                return np.zeros(model.vector_size)\n",
        "\n",
        "            words = word_tokenize(text.lower())\n",
        "            word_vectors = []\n",
        "            for word in words:\n",
        "                try:\n",
        "                    # Get vector for the word\n",
        "                    word_vectors.append(model.wv[word])\n",
        "                except KeyError:\n",
        "                    # Skip words not in vocabulary\n",
        "                    continue\n",
        "\n",
        "            if word_vectors:\n",
        "                # Convert to tensor and compute mean\n",
        "                vectors_tensor = tf.convert_to_tensor(word_vectors, dtype=tf.float32)\n",
        "                return tf.reduce_mean(vectors_tensor, axis=0).numpy()\n",
        "            else:\n",
        "                return np.zeros(model.vector_size)\n",
        "\n",
        "        # Process each text in the batch\n",
        "        return [get_embeddings(text) for text in texts]\n",
        "\n",
        "    # Process reviews in batches to utilize GPU efficiently\n",
        "    def process_in_batches(df, batch_size=128):\n",
        "        vectors = []\n",
        "        start_time = time.time()\n",
        "\n",
        "        for i in range(0, len(df), batch_size):\n",
        "            batch_texts = df['review_processed'].iloc[i:i+batch_size].values\n",
        "            batch_vectors = vectorize_review_batch(batch_texts, model)\n",
        "            vectors.extend(batch_vectors)\n",
        "\n",
        "            # Print progress\n",
        "            if (i+batch_size) % 1000 == 0 or i+batch_size >= len(df):\n",
        "                elapsed = time.time() - start_time\n",
        "                print(f\"Processed {i+len(batch_texts)}/{len(df)} reviews in {elapsed:.2f} seconds\")\n",
        "\n",
        "        return vectors\n",
        "\n",
        "    # Create vectors with GPU acceleration\n",
        "    print(\"Vectorizing reviews using GPU...\")\n",
        "    reviews_vectors = process_in_batches(reviews)\n",
        "    reviews_with_idioms_vectors = process_in_batches(reviews_with_idioms)\n",
        "\n",
        "    # Store vectors in the dataframes\n",
        "    reviews['vector'] = reviews_vectors\n",
        "    reviews_with_idioms['vector'] = reviews_with_idioms_vectors\n",
        "\n",
        "# Prepare data for training (back on CPU for scikit-learn)\n",
        "print(\"Preparing data for SVM training...\")\n",
        "X = np.vstack(reviews['vector'].values)\n",
        "y = reviews['sentiment'].values\n",
        "X2 = np.vstack(reviews_with_idioms['vector'].values)\n",
        "y2 = reviews_with_idioms['sentiment'].values\n"
      ],
      "metadata": {
        "colab": {
          "base_uri": "https://localhost:8080/"
        },
        "id": "UUkwVcjtUEj-",
        "outputId": "57881242-2f0e-4ed0-cdb4-ea9f8c92c766"
      },
      "execution_count": 1,
      "outputs": [
        {
          "output_type": "stream",
          "name": "stdout",
          "text": [
            "GPU Available: [PhysicalDevice(name='/physical_device:GPU:0', device_type='GPU')]\n"
          ]
        },
        {
          "output_type": "stream",
          "name": "stderr",
          "text": [
            "[nltk_data] Downloading package punkt_tab to /root/nltk_data...\n",
            "[nltk_data]   Unzipping tokenizers/punkt_tab.zip.\n"
          ]
        },
        {
          "output_type": "stream",
          "name": "stdout",
          "text": [
            "Downloading KGR10 FastText model from https://huggingface.co/clarin-pl/fasttext-kgr10/resolve/main/kgr10.plain.skipgram.dim100.neg10.bin...\n",
            "Download complete!\n",
            "Loading KGR10 FastText model...\n"
          ]
        },
        {
          "output_type": "stream",
          "name": "stderr",
          "text": [
            "<ipython-input-1-d13e91421915>:41: DeprecationWarning: Call to deprecated `load_fasttext_format` (use load_facebook_vectors (to use pretrained embeddings) or load_facebook_model (to continue training with the loaded full model, more RAM) instead).\n",
            "  model = FastText.load_fasttext_format(model_path)\n"
          ]
        },
        {
          "output_type": "stream",
          "name": "stdout",
          "text": [
            "Model loaded! Vector size: 100\n",
            "Loading datasets...\n",
            "Loaded 6503 reviews and 7003 reviews with idioms\n",
            "Preprocessing text...\n",
            "Vectorizing reviews using GPU...\n",
            "Processed 6503/6503 reviews in 58.74 seconds\n",
            "Processed 7003/7003 reviews in 58.83 seconds\n",
            "Preparing data for SVM training...\n"
          ]
        }
      ]
    },
    {
      "cell_type": "code",
      "source": [
        "# Split into training and test sets\n",
        "X_train, X_test, y_train, y_test = train_test_split(X, y, test_size=0.4, random_state=12)\n",
        "X2_train, X2_test, y2_train, y2_test = train_test_split(X2, y2, test_size=None, random_state=12)\n",
        "\n",
        "# Train model on reviews only\n",
        "print(\"Training SVM on reviews dataset...\")\n",
        "start_time = time.time()\n",
        "model_svc = SVC(kernel='poly')\n",
        "model_svc.fit(X_train, y_train)\n",
        "print(f\"SVM training completed in {time.time() - start_time:.2f} seconds\")\n",
        "\n",
        "# Predict and evaluate\n",
        "y_pred = model_svc.predict(X_test)\n",
        "accuracy = accuracy_score(y_test, y_pred)\n",
        "print(f\"Accuracy for model trained on reviews only: {accuracy}\")\n",
        "\n",
        "# Train model on reviews + idioms\n",
        "print(\"Training SVM on reviews + idioms dataset...\")\n",
        "start_time = time.time()\n",
        "model_svc_idioms = SVC(kernel='poly')\n",
        "model_svc_idioms.fit(X2_train, y2_train)\n",
        "print(f\"SVM training completed in {time.time() - start_time:.2f} seconds\")\n",
        "\n",
        "# Predict and evaluate\n",
        "y2_pred = model_svc_idioms.predict(X_test)\n",
        "accuracy2 = accuracy_score(y_test, y2_pred)\n",
        "print(f\"Accuracy for model trained on reviews + idioms: {accuracy2}\")\n",
        "\n",
        "# Compare model performance\n",
        "print(\"\\nModel Performance Comparison:\")\n",
        "print(f\"Reviews Only:        {accuracy:.4f}\")\n",
        "print(f\"Reviews with Idioms: {accuracy2:.4f}\")\n",
        "print(f\"Improvement:         {(accuracy2-accuracy)*100:.2f}%\")\n",
        "\n",
        "# Save models if needed\n",
        "import joblib\n",
        "joblib.dump(model_svc, 'svm_model_reviews_kgr10.pkl')\n",
        "joblib.dump(model_svc_idioms, 'svm_model_reviews_idioms_kgr10.pkl')"
      ],
      "metadata": {
        "colab": {
          "base_uri": "https://localhost:8080/"
        },
        "id": "qEx7p1ipXWo7",
        "outputId": "b6801e0a-56d5-4ef8-a865-59ef276db397"
      },
      "execution_count": null,
      "outputs": [
        {
          "output_type": "stream",
          "name": "stdout",
          "text": [
            "Training SVM on reviews dataset...\n",
            "SVM training completed in 0.71 seconds\n",
            "Accuracy for model trained on reviews only: 0.5556978233034571\n",
            "Training SVM on reviews + idioms dataset...\n",
            "SVM training completed in 0.80 seconds\n",
            "Accuracy for model trained on reviews + idioms: 0.5224071702944942\n",
            "\n",
            "Model Performance Comparison:\n",
            "Reviews Only:        0.5557\n",
            "Reviews with Idioms: 0.5224\n",
            "Improvement:         -3.33%\n"
          ]
        },
        {
          "output_type": "execute_result",
          "data": {
            "text/plain": [
              "['svm_model_reviews_idioms_kgr10.pkl']"
            ]
          },
          "metadata": {},
          "execution_count": 12
        }
      ]
    },
    {
      "cell_type": "code",
      "source": [
        "from sklearn.svm import SVC\n",
        "from sklearn.metrics import accuracy_score\n",
        "from sklearn.model_selection import train_test_split\n",
        "import matplotlib.pyplot as plt\n",
        "import numpy as np\n",
        "import time\n",
        "\n",
        "# Podział danych\n",
        "X_train, X_test, y_train, y_test = train_test_split(X, y, test_size=0.2, random_state=12)\n",
        "X2_train, X2_test, y2_train, y2_test = train_test_split(X2, y2, test_size=0.2, random_state=12)\n",
        "\n",
        "# Lista kernelów do przetestowania\n",
        "kernels = ['linear', 'poly', 'rbf']\n",
        "\n",
        "# Miejsce na accuracy\n",
        "acc_reviews = []\n",
        "acc_reviews_idioms = []\n",
        "\n",
        "# Trenowanie i zbieranie wyników\n",
        "for kernel in kernels:\n",
        "    print(f\"\\nTraining SVM (kernel={kernel}) on reviews only...\")\n",
        "    model = SVC(kernel=kernel)\n",
        "    start = time.time()\n",
        "    model.fit(X_train, y_train)\n",
        "    y_pred = model.predict(X_test)\n",
        "    acc = accuracy_score(y_test, y_pred)\n",
        "    acc_reviews.append(acc)\n",
        "    print(f\"Done in {time.time() - start:.2f}s, Accuracy: {acc:.4f}\")\n",
        "\n",
        "    print(f\"Training SVM (kernel={kernel}) on reviews + idioms...\")\n",
        "    model2 = SVC(kernel=kernel)\n",
        "    start = time.time()\n",
        "    model2.fit(X2_train, y2_train)\n",
        "    y2_pred = model2.predict(X2_test)\n",
        "    acc2 = accuracy_score(y2_test, y2_pred)\n",
        "    acc_reviews_idioms.append(acc2)\n",
        "    print(f\"Done in {time.time() - start:.2f}s, Accuracy: {acc2:.4f}\")\n",
        "\n",
        "# Wykres porównawczy\n",
        "x = np.arange(len(kernels))\n",
        "width = 0.35\n",
        "\n",
        "fig, ax = plt.subplots(figsize=(10,6))\n",
        "bars1 = ax.bar(x - width/2, acc_reviews, width, label='Tylko recenzje')\n",
        "bars2 = ax.bar(x + width/2, acc_reviews_idioms, width, label='Recenzje + idiomy')\n",
        "\n",
        "ax.set_xlabel('Typ kernela SVM')\n",
        "ax.set_ylabel('Accuracy')\n",
        "ax.set_title('Porównanie skuteczności SVM (różne kernela)')\n",
        "ax.set_xticks(x)\n",
        "ax.set_xticklabels(kernels)\n",
        "ax.legend()\n",
        "ax.grid(True, axis='y')\n",
        "plt.tight_layout()\n",
        "plt.show()\n"
      ],
      "metadata": {
        "id": "2ffHJ2klTJFM",
        "outputId": "c7552ea9-0526-4efa-dc20-7d7c49d3c5f4",
        "colab": {
          "base_uri": "https://localhost:8080/",
          "height": 867
        }
      },
      "execution_count": 2,
      "outputs": [
        {
          "output_type": "stream",
          "name": "stdout",
          "text": [
            "\n",
            "Training SVM (kernel=linear) on reviews only...\n",
            "Done in 2.96s, Accuracy: 0.5772\n",
            "Training SVM (kernel=linear) on reviews + idioms...\n",
            "Done in 3.17s, Accuracy: 0.5803\n",
            "\n",
            "Training SVM (kernel=poly) on reviews only...\n",
            "Done in 2.08s, Accuracy: 0.5757\n",
            "Training SVM (kernel=poly) on reviews + idioms...\n",
            "Done in 2.73s, Accuracy: 0.5739\n",
            "\n",
            "Training SVM (kernel=rbf) on reviews only...\n",
            "Done in 2.94s, Accuracy: 0.5673\n",
            "Training SVM (kernel=rbf) on reviews + idioms...\n",
            "Done in 4.35s, Accuracy: 0.5696\n"
          ]
        },
        {
          "output_type": "display_data",
          "data": {
            "text/plain": [
              "<Figure size 1000x600 with 1 Axes>"
            ],
            "image/png": "[encoded data removed]"
          },
          "metadata": {}
        }
      ]
    }
  ]
}